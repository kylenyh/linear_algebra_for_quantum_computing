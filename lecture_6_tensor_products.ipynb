{
 "cells": [
  {
   "cell_type": "markdown",
   "metadata": {},
   "source": [
    "# Tensor Products of Vectors"
   ]
  },
  {
   "cell_type": "markdown",
   "metadata": {},
   "source": [
    "## Importing NumPy\n",
    "\n",
    "We will need to import NumPy for tensor products. "
   ]
  },
  {
   "cell_type": "code",
   "execution_count": 1,
   "metadata": {},
   "outputs": [],
   "source": [
    "import numpy as np"
   ]
  },
  {
   "cell_type": "markdown",
   "metadata": {},
   "source": [
    "## Introduction"
   ]
  },
  {
   "cell_type": "markdown",
   "metadata": {},
   "source": [
    "One of the most common tensor products we will encounter throughout the following chapters of the book will be the tensor product of two qubits, which are represented by $2$-dimensional vector which have length (or \"norm\") $1$.\n",
    "\n",
    "The general rule for the tensor product of two $2$-dimensional vectors is as follows:\n",
    "\n",
    "\\begin{align}\n",
    "\\begin{pmatrix}\n",
    "a_1 \\\\ a_2\n",
    "\\end{pmatrix} \\otimes\n",
    "\\begin{pmatrix}\n",
    "b_1 \\\\ b_2\n",
    "\\end{pmatrix} = \n",
    "\\begin{pmatrix}\n",
    "a_1 \\begin{pmatrix}\n",
    "b_1 \\\\ b_2\n",
    "\\end{pmatrix} \\\\ a_2 \\begin{pmatrix}\n",
    "b_1 \\\\ b_2\n",
    "\\end{pmatrix}\n",
    "\\end{pmatrix} = \n",
    "\\begin{pmatrix}\n",
    "a_1b_1 \\\\ a_1b_2 \\\\ a_2b_1 \\\\ a_2b_2\n",
    "\\end{pmatrix}\n",
    "\\end{align}"
   ]
  },
  {
   "cell_type": "markdown",
   "metadata": {},
   "source": [
    "Here is a numerical example:\n",
    "\n",
    "\\begin{align}\n",
    "\\begin{pmatrix}\n",
    "2 \\\\ 5\n",
    "\\end{pmatrix} \\otimes \n",
    "\\begin{pmatrix}\n",
    "3 \\\\ 1\n",
    "\\end{pmatrix} = \n",
    "\\begin{pmatrix}\n",
    "2 \\begin{pmatrix}\n",
    "3 \\\\ 1\n",
    "\\end{pmatrix} \\\\ 5 \\begin{pmatrix}\n",
    "3 \\\\ 1\n",
    "\\end{pmatrix}\n",
    "\\end{pmatrix} = \n",
    "\\begin{pmatrix}\n",
    "2 \\cdot 3 \\\\ 2 \\cdot 1 \\\\ 5 \\cdot 3 \\\\ 5 \\cdot 1\n",
    "\\end{pmatrix} = \n",
    "\\begin{pmatrix}\n",
    "6 \\\\ 2 \\\\ 15 \\\\ 5\n",
    "\\end{pmatrix}\n",
    "\\end{align}"
   ]
  },
  {
   "cell_type": "markdown",
   "metadata": {},
   "source": [
    "For an example using Python we will use the \"np.kron()\" function, which is the [Kronecker product](https://en.wikipedia.org/wiki/Kronecker_product), \n",
    "\n",
    "> \"In mathematics, the Kronecker product, sometimes denoted by ⊗, is an operation on two matrices of arbitrary size resulting in a block matrix. It is a generalization of the outer product (which is denoted by the same symbol) from vectors to matrices, and gives the matrix of the tensor product with respect to a standard choice of basis. The Kronecker product should not be confused with the usual matrix multiplication, which is an entirely different operation.\""
   ]
  },
  {
   "cell_type": "code",
   "execution_count": 2,
   "metadata": {},
   "outputs": [
    {
     "data": {
      "text/plain": [
       "array([[ 6],\n",
       "       [ 2],\n",
       "       [15],\n",
       "       [ 5]])"
      ]
     },
     "execution_count": 2,
     "metadata": {},
     "output_type": "execute_result"
    }
   ],
   "source": [
    "# Define two ket-vectors\n",
    "\n",
    "A = np.array([[2], \n",
    "              [5]])\n",
    "\n",
    "B = np.array([[3],\n",
    "              [1]])\n",
    "\n",
    "# Take the Kronecker (tensor) product of the two column vectors\n",
    "np.kron(A,B)"
   ]
  },
  {
   "cell_type": "markdown",
   "metadata": {},
   "source": [
    "We can also define these two vectors as matrices which will allow us to compute Hermitian conjugates. The Kronecker product function 'np.kron()' will work all the same:"
   ]
  },
  {
   "cell_type": "code",
   "execution_count": 3,
   "metadata": {},
   "outputs": [
    {
     "data": {
      "text/plain": [
       "matrix([[ 6],\n",
       "        [ 2],\n",
       "        [15],\n",
       "        [ 5]])"
      ]
     },
     "execution_count": 3,
     "metadata": {},
     "output_type": "execute_result"
    }
   ],
   "source": [
    "# Define the ket-vectors as 2x1 column matrices:\n",
    "ket_A = np.matrix([[2], \n",
    "                   [5]])\n",
    "\n",
    "ket_B = np.matrix([[3], \n",
    "                   [1]])\n",
    "\n",
    "# Compute their Kronecker product\n",
    "np.kron(ket_A, ket_B)"
   ]
  },
  {
   "cell_type": "markdown",
   "metadata": {},
   "source": [
    "This can also be done with complex vectors:"
   ]
  },
  {
   "cell_type": "code",
   "execution_count": 4,
   "metadata": {},
   "outputs": [
    {
     "data": {
      "text/plain": [
       "matrix([[-6. +3.j],\n",
       "        [ 6. -8.j],\n",
       "        [-0. -9.j],\n",
       "        [ 6.+12.j]])"
      ]
     },
     "execution_count": 4,
     "metadata": {},
     "output_type": "execute_result"
    }
   ],
   "source": [
    "# Define the ket-vectors as 2x1 column matrices:\n",
    "ket_psi = np.matrix([[2-1j], \n",
    "                     [3j]])\n",
    "\n",
    "ket_phi = np.matrix([[-3], \n",
    "                     [4-2j]])\n",
    "\n",
    "# Compute their Kronecker product\n",
    "np.kron(ket_psi, ket_phi)"
   ]
  },
  {
   "cell_type": "markdown",
   "metadata": {},
   "source": [
    "Here is a more complicated example with two vectors of different dimensions:\n",
    "\n",
    "\\begin{align}\n",
    "\\begin{pmatrix}\n",
    "a_1 \\\\ a_2\n",
    "\\end{pmatrix} \\otimes \n",
    "\\begin{pmatrix}\n",
    "b_1 \\\\ b_2 \\\\ b_3\n",
    "\\end{pmatrix} = \n",
    "\\begin{pmatrix}\n",
    "a_1 \\begin{pmatrix}\n",
    "b_1 \\\\ b_2 \\\\ b_3\n",
    "\\end{pmatrix} \\\\\n",
    "a_2 \\begin{pmatrix}\n",
    "b_1 \\\\ b_2 \\\\ b_3\n",
    "\\end{pmatrix}\n",
    "\\end{pmatrix} = \n",
    "\\begin{pmatrix}\n",
    "a_1b_1 \\\\ a_1b_2 \\\\ a_1b_3 \\\\ a_2b_1 \\\\ a_2b_2 \\\\ a_2b_3\n",
    "\\end{pmatrix}\n",
    "\\end{align}"
   ]
  },
  {
   "cell_type": "markdown",
   "metadata": {},
   "source": [
    "Here is a corresponding numerical example:\n",
    "\n",
    "\\begin{align}\n",
    "\\begin{pmatrix}\n",
    "1 \\\\ 4\n",
    "\\end{pmatrix} \\otimes \n",
    "\\begin{pmatrix}\n",
    "5 \\\\ 2 \\\\ 4\n",
    "\\end{pmatrix} = \n",
    "\\begin{pmatrix}\n",
    "1 \\begin{pmatrix}\n",
    "5 \\\\ 2 \\\\ 4\n",
    "\\end{pmatrix} \\\\\n",
    "4 \\begin{pmatrix}\n",
    "5 \\\\ 2 \\\\ 4\n",
    "\\end{pmatrix}\n",
    "\\end{pmatrix} = \n",
    "\\begin{pmatrix}\n",
    "5 \\\\ 2 \\\\ 4 \\\\ 20 \\\\ 8 \\\\ 16\n",
    "\\end{pmatrix}\n",
    "\\end{align} "
   ]
  },
  {
   "cell_type": "markdown",
   "metadata": {},
   "source": [
    "Here is the code for computing this tensor product:"
   ]
  },
  {
   "cell_type": "code",
   "execution_count": 5,
   "metadata": {},
   "outputs": [
    {
     "data": {
      "text/plain": [
       "matrix([[ 5],\n",
       "        [ 2],\n",
       "        [ 4],\n",
       "        [20],\n",
       "        [ 8],\n",
       "        [16]])"
      ]
     },
     "execution_count": 5,
     "metadata": {},
     "output_type": "execute_result"
    }
   ],
   "source": [
    "ket_X = np.matrix([[1], \n",
    "                   [4]])\n",
    "\n",
    "ket_Y = np.matrix([[5], \n",
    "                   [2], \n",
    "                   [4]])\n",
    "\n",
    "np.kron(ket_X, ket_Y)"
   ]
  },
  {
   "cell_type": "markdown",
   "metadata": {},
   "source": [
    "## Exercises"
   ]
  },
  {
   "cell_type": "markdown",
   "metadata": {},
   "source": [
    "1. Using the following rule, \n",
    "\\begin{align}\n",
    "\\begin{pmatrix}\n",
    "a_1 \\\\ a_2 \\\\ a_3\n",
    "\\end{pmatrix} \\otimes\n",
    "\\begin{pmatrix}\n",
    "b_1 \\\\ b_2\n",
    "\\end{pmatrix} = \n",
    "\\begin{pmatrix}\n",
    "a_1 \\begin{pmatrix}\n",
    "b_1 \\\\ b_2\n",
    "\\end{pmatrix} \\\\ a_2\\begin{pmatrix}\n",
    "b_1 \\\\ b_2\n",
    "\\end{pmatrix} \\\\ a_3\\begin{pmatrix}\n",
    "b_1 \\\\ b_2\n",
    "\\end{pmatrix}\n",
    "\\end{pmatrix} = \n",
    "\\begin{pmatrix}\n",
    "a_1b_1 \\\\ a_1b_2 \\\\ a_2b_1 \\\\ a_2b_2 \\\\ a_3b_1 \\\\ a_3b_2\n",
    "\\end{pmatrix}\n",
    "\\end{align}\n",
    "\n",
    "compute the following tensor/Kroneckar product by hand:\n",
    "\n",
    "\\begin{align}\n",
    "\\begin{pmatrix}\n",
    "2 \\\\ 7 \\\\ 3\n",
    "\\end{pmatrix} \\otimes\n",
    "\\begin{pmatrix}\n",
    "5 \\\\ 9\n",
    "\\end{pmatrix}\n",
    "\\end{align}"
   ]
  },
  {
   "cell_type": "markdown",
   "metadata": {},
   "source": [
    "2. Write Python code to compute the above computation using the 'np.kron()' function. Remember to define two column (ket) vectors as matrices first.  "
   ]
  },
  {
   "cell_type": "markdown",
   "metadata": {},
   "source": [
    "3. Derive a general rule for the following tensor product by performing the tensor product inside the parenthesis first:\n",
    "\n",
    "\\begin{align}\n",
    "\\left( \\begin{pmatrix}\n",
    "a_1 \\\\ a_2\n",
    "\\end{pmatrix} \\otimes \n",
    "\\begin{pmatrix}\n",
    "b_1 \\\\ b_2\n",
    "\\end{pmatrix}\\right) \\otimes \n",
    "\\begin{pmatrix}\n",
    "c_1 \\\\ c_2\n",
    "\\end{pmatrix}\n",
    "\\end{align}"
   ]
  },
  {
   "cell_type": "markdown",
   "metadata": {},
   "source": [
    "4. Now derive a general rule for the following tensor product by performing the tensor product in the parenthesis first:\n",
    "\n",
    "\\begin{align}\n",
    "\\begin{pmatrix}\n",
    "a_1 \\\\ a_2\n",
    "\\end{pmatrix} \\otimes \n",
    "\\left( \\begin{pmatrix}\n",
    "b_1 \\\\ b_2\n",
    "\\end{pmatrix} \\otimes \n",
    "\\begin{pmatrix}\n",
    "c_1 \\\\ c_2\n",
    "\\end{pmatrix}\\right)\n",
    "\\end{align}\n",
    "\n",
    "Convince yourself that your results from the previous two computations are in fact equal."
   ]
  },
  {
   "cell_type": "code",
   "execution_count": 6,
   "metadata": {},
   "outputs": [
    {
     "data": {
      "text/plain": [
       "matrix([[10],\n",
       "        [18],\n",
       "        [35],\n",
       "        [63],\n",
       "        [15],\n",
       "        [27]])"
      ]
     },
     "execution_count": 6,
     "metadata": {},
     "output_type": "execute_result"
    }
   ],
   "source": [
    "# 2\n",
    "\n",
    "v_1 = np.matrix([[2], \n",
    "                   [7], \n",
    "                   [3]])\n",
    "\n",
    "v_2 = np.matrix([[5], \n",
    "                   [9]])\n",
    "\n",
    "np.kron(v_1, v_2)"
   ]
  },
  {
   "cell_type": "code",
   "execution_count": 7,
   "metadata": {},
   "outputs": [
    {
     "name": "stdout",
     "output_type": "stream",
     "text": [
      "result1= [[14]\n",
      " [18]\n",
      " [35]\n",
      " [45]]\n",
      "result2= [[ 42]\n",
      " [112]\n",
      " [ 54]\n",
      " [144]\n",
      " [105]\n",
      " [280]\n",
      " [135]\n",
      " [360]]\n"
     ]
    }
   ],
   "source": [
    "# 3\n",
    "\n",
    "v_1 = np.matrix([[2], \n",
    "                   [5]])\n",
    "\n",
    "v_2 = np.matrix([[7], \n",
    "                   [9]])\n",
    "\n",
    "v_3 = np.matrix([[3], \n",
    "                   [8]])\n",
    "\n",
    "result1 = np.kron(v_1, v_2)\n",
    "\n",
    "print(\"result1=\", result1)\n",
    "\n",
    "result2 = np.kron(result1, v_3)\n",
    "\n",
    "print(\"result2=\", result2)\n"
   ]
  },
  {
   "cell_type": "code",
   "execution_count": 8,
   "metadata": {},
   "outputs": [
    {
     "name": "stdout",
     "output_type": "stream",
     "text": [
      "result1= [[21]\n",
      " [56]\n",
      " [27]\n",
      " [72]]\n",
      "result2= [[ 42]\n",
      " [112]\n",
      " [ 54]\n",
      " [144]\n",
      " [105]\n",
      " [280]\n",
      " [135]\n",
      " [360]]\n"
     ]
    }
   ],
   "source": [
    "# 4\n",
    "\n",
    "v_1 = np.matrix([[2], \n",
    "                   [5]])\n",
    "\n",
    "v_2 = np.matrix([[7], \n",
    "                   [9]])\n",
    "\n",
    "v_3 = np.matrix([[3], \n",
    "                   [8]])\n",
    "\n",
    "result1 = np.kron(v_2, v_3)\n",
    "\n",
    "print(\"result1=\", result1)\n",
    "\n",
    "result2 = np.kron(v_1, result1)\n",
    "\n",
    "print(\"result2=\", result2)\n"
   ]
  }
 ],
 "metadata": {
  "kernelspec": {
   "display_name": "Python 3",
   "language": "python",
   "name": "python3"
  },
  "language_info": {
   "codemirror_mode": {
    "name": "ipython",
    "version": 3
   },
   "file_extension": ".py",
   "mimetype": "text/x-python",
   "name": "python",
   "nbconvert_exporter": "python",
   "pygments_lexer": "ipython3",
   "version": "3.10.10"
  }
 },
 "nbformat": 4,
 "nbformat_minor": 4
}
