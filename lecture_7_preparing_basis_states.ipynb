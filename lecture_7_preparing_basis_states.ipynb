{
 "cells": [
  {
   "cell_type": "markdown",
   "metadata": {},
   "source": [
    "# Preparing Basis States in PennyLane"
   ]
  },
  {
   "cell_type": "markdown",
   "metadata": {},
   "source": [
    "## Importing PennyLane and the wrapped version of NumPy\n",
    "\n",
    "PennyLane is an open source software for quantum machine learning and quantum computing algorithms. It integrates standard machine learning software and tools, such as TensorFlow and Pytorch, with quantum computing software like IBM's Qiskit, Microsoft's Q#, and Google's Cirq. It also has its own built in functions and models, and allows various hardware backends such as the quantum computers available from IBM via free cloud access. PennyLane has a wrapped version of NumPy that we import rather than the standard NumPy we have been using. "
   ]
  },
  {
   "cell_type": "code",
   "execution_count": 1,
   "metadata": {},
   "outputs": [
    {
     "name": "stdout",
     "output_type": "stream",
     "text": [
      "Requirement already satisfied: pennylane in c:\\users\\user\\appdata\\local\\programs\\python\\python310\\lib\\site-packages (0.36.0)\n",
      "Requirement already satisfied: numpy<2.0 in c:\\users\\user\\appdata\\local\\programs\\python\\python310\\lib\\site-packages (from pennylane) (1.23.5)\n",
      "Requirement already satisfied: scipy in c:\\users\\user\\appdata\\local\\programs\\python\\python310\\lib\\site-packages (from pennylane) (1.11.1)\n",
      "Requirement already satisfied: networkx in c:\\users\\user\\appdata\\local\\programs\\python\\python310\\lib\\site-packages (from pennylane) (3.2.1)\n",
      "Requirement already satisfied: rustworkx in c:\\users\\user\\appdata\\local\\programs\\python\\python310\\lib\\site-packages (from pennylane) (0.13.0)\n",
      "Requirement already satisfied: autograd in c:\\users\\user\\appdata\\local\\programs\\python\\python310\\lib\\site-packages (from pennylane) (1.6.2)\n",
      "Requirement already satisfied: toml in c:\\users\\user\\appdata\\local\\programs\\python\\python310\\lib\\site-packages (from pennylane) (0.10.2)\n",
      "Requirement already satisfied: appdirs in c:\\users\\user\\appdata\\local\\programs\\python\\python310\\lib\\site-packages (from pennylane) (1.4.4)\n",
      "Requirement already satisfied: semantic-version>=2.7 in c:\\users\\user\\appdata\\local\\programs\\python\\python310\\lib\\site-packages (from pennylane) (2.10.0)\n",
      "Requirement already satisfied: autoray>=0.6.1 in c:\\users\\user\\appdata\\local\\programs\\python\\python310\\lib\\site-packages (from pennylane) (0.6.12)\n",
      "Requirement already satisfied: cachetools in c:\\users\\user\\appdata\\local\\programs\\python\\python310\\lib\\site-packages (from pennylane) (5.3.2)\n",
      "Requirement already satisfied: pennylane-lightning>=0.36 in c:\\users\\user\\appdata\\local\\programs\\python\\python310\\lib\\site-packages (from pennylane) (0.36.0)\n",
      "Requirement already satisfied: requests in c:\\users\\user\\appdata\\local\\programs\\python\\python310\\lib\\site-packages (from pennylane) (2.27.1)\n",
      "Requirement already satisfied: typing-extensions in c:\\users\\user\\appdata\\local\\programs\\python\\python310\\lib\\site-packages (from pennylane) (4.9.0)\n",
      "Requirement already satisfied: future>=0.15.2 in c:\\users\\user\\appdata\\local\\programs\\python\\python310\\lib\\site-packages (from autograd->pennylane) (0.18.3)\n",
      "Requirement already satisfied: urllib3<1.27,>=1.21.1 in c:\\users\\user\\appdata\\local\\programs\\python\\python310\\lib\\site-packages (from requests->pennylane) (1.26.9)\n",
      "Requirement already satisfied: certifi>=2017.4.17 in c:\\users\\user\\appdata\\local\\programs\\python\\python310\\lib\\site-packages (from requests->pennylane) (2021.10.8)\n",
      "Requirement already satisfied: charset-normalizer~=2.0.0 in c:\\users\\user\\appdata\\local\\programs\\python\\python310\\lib\\site-packages (from requests->pennylane) (2.0.12)\n",
      "Requirement already satisfied: idna<4,>=2.5 in c:\\users\\user\\appdata\\local\\programs\\python\\python310\\lib\\site-packages (from requests->pennylane) (3.3)\n",
      "Note: you may need to restart the kernel to use updated packages.\n"
     ]
    },
    {
     "name": "stderr",
     "output_type": "stream",
     "text": [
      "WARNING: Error parsing dependencies of bleach: Expected matching RIGHT_PARENTHESIS for LEFT_PARENTHESIS, after version specifier\n",
      "    tinycss2 (>=1.1.0<1.2) ; extra == 'css'\n",
      "             ~~~~~~~~^\n"
     ]
    }
   ],
   "source": [
    "pip install pennylane"
   ]
  },
  {
   "cell_type": "code",
   "execution_count": 2,
   "metadata": {},
   "outputs": [],
   "source": [
    "import pennylane as qml\n",
    "from pennylane import numpy as np"
   ]
  },
  {
   "cell_type": "markdown",
   "metadata": {},
   "source": [
    "## Basis States\n",
    "\n",
    "In PennyLane, and other quantum computing software, we often want to prepare basis states. This is something we will return to again in the future when we study specific cases of quantum circuits, but having some basic introduction to state preparation now seems appropriate since the are simply tensor products of the basis states $|0\\rangle$ and $|1\\rangle$. In particular, we can prepare states like\n",
    "\n",
    "\\begin{align}\n",
    "|00 \\rangle &= |0\\rangle \\otimes |0\\rangle = \\begin{pmatrix} 1\\\\0 \\end{pmatrix} \\otimes \\begin{pmatrix} 1\\\\0 \\end{pmatrix} = \\begin{pmatrix} 1\\\\0\\\\0\\\\0 \\end{pmatrix} \\\\\n",
    "|01 \\rangle &= |0\\rangle \\otimes |1\\rangle = \\begin{pmatrix} 1\\\\0 \\end{pmatrix} \\otimes \\begin{pmatrix} 0\\\\1 \\end{pmatrix} = \\begin{pmatrix} 0\\\\1\\\\0\\\\0 \\end{pmatrix} \\\\\n",
    "|10 \\rangle &= |1\\rangle \\otimes |0\\rangle = \\begin{pmatrix} 0\\\\1 \\end{pmatrix} \\otimes \\begin{pmatrix} 1\\\\0 \\end{pmatrix} = \\begin{pmatrix} 0\\\\0\\\\1\\\\0 \\end{pmatrix} \\\\\n",
    "|11 \\rangle &= |1\\rangle \\otimes |1\\rangle = \\begin{pmatrix} 0\\\\1 \\end{pmatrix} \\otimes \\begin{pmatrix} 0\\\\1 \\end{pmatrix} = \\begin{pmatrix} 0\\\\0\\\\0\\\\1 \\end{pmatrix}\n",
    "\\end{align}"
   ]
  },
  {
   "cell_type": "markdown",
   "metadata": {},
   "source": [
    "Let's define these in Python"
   ]
  },
  {
   "cell_type": "code",
   "execution_count": 4,
   "metadata": {},
   "outputs": [
    {
     "name": "stdout",
     "output_type": "stream",
     "text": [
      "[[1]\n",
      " [0]]\n",
      "[[0]\n",
      " [1]]\n"
     ]
    }
   ],
   "source": [
    "# Define single qubit states spin-up and spin-down\n",
    "u = np.matrix([[1],\n",
    "               [0]])\n",
    "d = np.matrix([[0],\n",
    "               [1]])\n",
    "\n",
    "# Shows u \n",
    "print(u)\n",
    "\n",
    "# Shows d\n",
    "print(d)\n",
    "\n",
    "# Define the basis states:\n",
    "uu = np.kron(u, u)\n",
    "ud = np.kron(u, d)\n",
    "du = np.kron(d, u)\n",
    "dd = np.kron(d, d)\n"
   ]
  },
  {
   "cell_type": "code",
   "execution_count": 6,
   "metadata": {},
   "outputs": [
    {
     "name": "stdout",
     "output_type": "stream",
     "text": [
      "|00> =\n",
      "[[1]\n",
      " [0]\n",
      " [0]\n",
      " [0]]\n"
     ]
    }
   ],
   "source": [
    "# Shows uu\n",
    "print('|00> =')\n",
    "print(uu)"
   ]
  },
  {
   "cell_type": "code",
   "execution_count": 7,
   "metadata": {},
   "outputs": [
    {
     "name": "stdout",
     "output_type": "stream",
     "text": [
      "|01> =\n",
      "[[0]\n",
      " [1]\n",
      " [0]\n",
      " [0]]\n"
     ]
    }
   ],
   "source": [
    "# Shows ud\n",
    "print('|01> =')\n",
    "print(ud)"
   ]
  },
  {
   "cell_type": "code",
   "execution_count": 8,
   "metadata": {},
   "outputs": [
    {
     "name": "stdout",
     "output_type": "stream",
     "text": [
      "|10> =\n",
      "[[0]\n",
      " [0]\n",
      " [1]\n",
      " [0]]\n"
     ]
    }
   ],
   "source": [
    "# Shows du\n",
    "print('|10> =')\n",
    "print(du)"
   ]
  },
  {
   "cell_type": "code",
   "execution_count": 9,
   "metadata": {},
   "outputs": [
    {
     "name": "stdout",
     "output_type": "stream",
     "text": [
      "|11> =\n",
      "[[0]\n",
      " [0]\n",
      " [0]\n",
      " [1]]\n"
     ]
    }
   ],
   "source": [
    "# Shows dd\n",
    "print('|11> =')\n",
    "print(dd)"
   ]
  },
  {
   "cell_type": "markdown",
   "metadata": {},
   "source": [
    "Taking this further, we can define states like:\n",
    "    \n",
    "\\begin{align}\n",
    "|000\\rangle = |0\\rangle \\otimes |0\\rangle \\otimes |0\\rangle = \\begin{pmatrix} 1\\\\0\\\\0\\\\0\\\\0\\\\0\\\\0\\\\0 \\end{pmatrix}\n",
    "\\end{align}\n",
    "\n",
    "\\begin{align}\n",
    "|010\\rangle = |0\\rangle \\otimes |1\\rangle \\otimes |0\\rangle = \\begin{pmatrix} 0\\\\0\\\\1\\\\0\\\\0\\\\0\\\\0\\\\0 \\end{pmatrix}\n",
    "\\end{align}"
   ]
  },
  {
   "cell_type": "markdown",
   "metadata": {},
   "source": [
    "In PennyLane the following code defines a device (quantum computer or simulator) on which to run code. We will use the default simulator for now since the code is very simple and running it on an actual quantum computer is unnecessary. The number of wires is equal to the number of qubits we are using. The number of shots is the number of times we want to run the circuit."
   ]
  },
  {
   "cell_type": "code",
   "execution_count": 10,
   "metadata": {},
   "outputs": [],
   "source": [
    "# Creating a default qubit simulator\n",
    "dev = qml.device(\"default.qubit\", wires=2, shots=1)"
   ]
  },
  {
   "cell_type": "markdown",
   "metadata": {},
   "source": [
    "Now we can define an array that corresponds to the basis state $|00\\rangle$:"
   ]
  },
  {
   "cell_type": "code",
   "execution_count": 11,
   "metadata": {},
   "outputs": [],
   "source": [
    "# 00 basis state \n",
    "uu = np.array([0, 0])"
   ]
  },
  {
   "cell_type": "markdown",
   "metadata": {},
   "source": [
    "We can define a function `circuit()` that defines a quantum circuit. "
   ]
  },
  {
   "cell_type": "code",
   "execution_count": 12,
   "metadata": {},
   "outputs": [],
   "source": [
    "# Defining a quantum circuit \n",
    "def circuit():\n",
    "    qml.BasisState(uu, wires=[0, 1])\n",
    "    return qml.sample(qml.PauliZ(0)), qml.sample(qml.PauliZ(1))"
   ]
  },
  {
   "cell_type": "markdown",
   "metadata": {},
   "source": [
    "Now, we define a `qnode` class that runs on the device we have defined and samples the qubits and gives a $+1$ for spin-up and a $-1$ for spin down. This runs a quantum function (circuit) that we have just defined. "
   ]
  },
  {
   "cell_type": "code",
   "execution_count": 13,
   "metadata": {},
   "outputs": [
    {
     "name": "stdout",
     "output_type": "stream",
     "text": [
      "(array(1, dtype=int64), array(1, dtype=int64))\n"
     ]
    }
   ],
   "source": [
    "# Creating a qnode class\n",
    "@qml.qnode(dev)\n",
    "def circuit():\n",
    "    qml.BasisState(uu, wires=[0, 1])\n",
    "    return qml.sample(qml.PauliZ(0)), qml.sample(qml.PauliZ(1))\n",
    "\n",
    "print(circuit())"
   ]
  },
  {
   "cell_type": "markdown",
   "metadata": {},
   "source": [
    "Since qubits are by default in the spin-up state for any quantum circuit, and since we did not prepare any special initial state or perform any operations on the qubits, we get an expectation value of $+1$ for both when sampling the circuit. The vector above show a $+1$ in the first and second entry meaning it is measuring two spin-up states. Let's define a new state to prepare corresponding to $|01 \\rangle$:"
   ]
  },
  {
   "cell_type": "code",
   "execution_count": 14,
   "metadata": {},
   "outputs": [],
   "source": [
    "# 01 basis state \n",
    "ud = np.array([0,1])"
   ]
  },
  {
   "cell_type": "markdown",
   "metadata": {},
   "source": [
    "Next, let's define a new `qnode` to sample corresponding to this prepared state:"
   ]
  },
  {
   "cell_type": "code",
   "execution_count": 15,
   "metadata": {},
   "outputs": [
    {
     "name": "stdout",
     "output_type": "stream",
     "text": [
      "(array(1, dtype=int64), array(-1, dtype=int64))\n"
     ]
    }
   ],
   "source": [
    "# A qnode class\n",
    "@qml.qnode(dev)\n",
    "def circuit():\n",
    "    qml.BasisState(ud, wires=[0, 1])\n",
    "    return qml.sample(qml.PauliZ(0)), qml.sample(qml.PauliZ(1))\n",
    "\n",
    "print(circuit())"
   ]
  },
  {
   "cell_type": "markdown",
   "metadata": {},
   "source": [
    "As we can see, we get a $+1$ in the first component, corresponding to the spin-up state, and we get a $-1$ in the second component corresponding to the spin-down state. We can also tell PennyLane to perform multiple \"shots\" or samples by defining a new device:"
   ]
  },
  {
   "cell_type": "code",
   "execution_count": 17,
   "metadata": {},
   "outputs": [],
   "source": [
    "# Creating a new default qubit simulator\n",
    "dev2 = qml.device(\"default.qubit\", wires=2, shots=10)"
   ]
  },
  {
   "cell_type": "code",
   "execution_count": 18,
   "metadata": {},
   "outputs": [
    {
     "name": "stdout",
     "output_type": "stream",
     "text": [
      "(array([1, 1, 1, 1, 1, 1, 1, 1, 1, 1], dtype=int64), array([-1, -1, -1, -1, -1, -1, -1, -1, -1, -1], dtype=int64))\n"
     ]
    }
   ],
   "source": [
    "# A new qnode class\n",
    "@qml.qnode(dev2)\n",
    "def circuit():\n",
    "    qml.BasisState(ud, wires=[0, 1])\n",
    "    return qml.sample(qml.PauliZ(0)), qml.sample(qml.PauliZ(1))\n",
    "\n",
    "print(circuit())"
   ]
  },
  {
   "cell_type": "markdown",
   "metadata": {},
   "source": [
    "This gives us 10 output samples instead of just one. If we define a new array corresponding to the state $|11\\rangle$,"
   ]
  },
  {
   "cell_type": "code",
   "execution_count": 16,
   "metadata": {},
   "outputs": [],
   "source": [
    "# 11 basis state \n",
    "dd = np.array([1,1])"
   ]
  },
  {
   "cell_type": "markdown",
   "metadata": {},
   "source": [
    "We can define a new 'qnode' with the new device we just defined, and we should expect an output vector of \n",
    "\n",
    "\\begin{align}\n",
    "\\begin{pmatrix}\n",
    "-1\\\\-1\n",
    "\\end{pmatrix}\n",
    "\\end{align}\n",
    "\n",
    "ten times, corresponding to the ten samples:"
   ]
  },
  {
   "cell_type": "code",
   "execution_count": 17,
   "metadata": {},
   "outputs": [
    {
     "name": "stdout",
     "output_type": "stream",
     "text": [
      "[[-1 -1 -1 -1 -1 -1 -1 -1 -1 -1]\n",
      " [-1 -1 -1 -1 -1 -1 -1 -1 -1 -1]]\n"
     ]
    }
   ],
   "source": [
    "@qml.qnode(dev2)\n",
    "def circuit():\n",
    "    qml.BasisState(dd, wires=[0, 1])\n",
    "    return qml.sample(qml.PauliZ(0)), qml.sample(qml.PauliZ(1))\n",
    "\n",
    "print(circuit())"
   ]
  },
  {
   "cell_type": "markdown",
   "metadata": {},
   "source": [
    "We will return to this when we discuss measurements and expectation values. "
   ]
  },
  {
   "cell_type": "markdown",
   "metadata": {},
   "source": [
    "## Exercises\n",
    "\n",
    "### Write code to compute the following basis states:\n",
    "\n",
    "1. $|000 \\rangle$\n",
    "2. $|001 \\rangle$\n",
    "3. $|010 \\rangle$\n",
    "4. $|011 \\rangle$\n",
    "5. $|100 \\rangle$\n",
    "6. $|101 \\rangle$\n",
    "7. $|110 \\rangle$\n",
    "8. $|111 \\rangle$\n",
    "\n",
    "Now, compute these by hand to verify your code is correct. For example, the first computation will be\n",
    "\n",
    "\\begin{align}\n",
    "\\begin{pmatrix} 1\\\\0 \\end{pmatrix} \\otimes\n",
    "\\begin{pmatrix} 1\\\\0 \\end{pmatrix} \\otimes\n",
    "\\begin{pmatrix} 0\\\\1 \\end{pmatrix}\n",
    "\\end{align}"
   ]
  },
  {
   "cell_type": "markdown",
   "metadata": {},
   "source": [
    "9. Define a defaul device with \"3 wires\" and \"5 shots\".\n",
    "10. Define an array 'uud' for the basis state $|001\\rangle$.\n",
    "11. Now define a `qnode` that will print the samples: \n",
    "\n",
    "> `qml.sample(qml.PauliZ(0))`\n",
    "\n",
    "> `qml.sample(qml.PauliZ(1))` \n",
    "\n",
    "> `qml.sample(qml.PauliZ(2))`\n",
    "\n",
    "12. Run your 'qnode' and verify that you get the output vector\n",
    "\\begin{align}\n",
    "\\begin{pmatrix}\n",
    "1 \\\\ 1 \\\\ -1\n",
    "\\end{pmatrix}\n",
    "\\end{align}\n",
    "\n",
    "five times.\n",
    "\n",
    "13. Try doing this with the other basis states given in Exercises 1-8."
   ]
  },
  {
   "cell_type": "code",
   "execution_count": 25,
   "metadata": {},
   "outputs": [
    {
     "name": "stdout",
     "output_type": "stream",
     "text": [
      "State |000> (tensor product of qubits): [1.+0.j 0.+0.j 0.+0.j 0.+0.j 0.+0.j 0.+0.j 0.+0.j 0.+0.j]\n"
     ]
    }
   ],
   "source": [
    "# 1\n",
    "\n",
    "# Create a default qubit simulator with 3 qubits\n",
    "dev = qml.device(\"default.qubit\", wires=3, shots=None)\n",
    "\n",
    "# Defining a quantum circuit for |000> state\n",
    "@qml.qnode(dev)\n",
    "def circuit_000():\n",
    "    uu = np.array([0, 0, 0])  # |000> basis state\n",
    "    qml.BasisState(uu, wires=[0, 1, 2])\n",
    "    return qml.state()  # Return the full quantum state (the tensor product of all qubits)\n",
    "\n",
    "# Run and print the result for |000>\n",
    "state_000 = circuit_000()\n",
    "print(\"State |000> (tensor product of qubits):\", state_000)\n"
   ]
  },
  {
   "cell_type": "code",
   "execution_count": 26,
   "metadata": {},
   "outputs": [
    {
     "name": "stdout",
     "output_type": "stream",
     "text": [
      "State |001> (tensor product of qubits): [0.+0.j 1.+0.j 0.+0.j 0.+0.j 0.+0.j 0.+0.j 0.+0.j 0.+0.j]\n"
     ]
    }
   ],
   "source": [
    "# 2\n",
    "\n",
    "# Create a default qubit simulator with 3 qubits\n",
    "dev = qml.device(\"default.qubit\", wires=3, shots=None)\n",
    "\n",
    "# Defining a quantum circuit for |001> state\n",
    "@qml.qnode(dev)\n",
    "def circuit_001():\n",
    "    uu = np.array([0, 0, 1])  # |001> basis state\n",
    "    qml.BasisState(uu, wires=[0, 1, 2])\n",
    "    return qml.state()  # Return the full quantum state (the tensor product of all qubits)\n",
    "\n",
    "# Run and print the result for |001>\n",
    "state_001 = circuit_001()\n",
    "print(\"State |001> (tensor product of qubits):\", state_001)"
   ]
  },
  {
   "cell_type": "code",
   "execution_count": 27,
   "metadata": {},
   "outputs": [
    {
     "name": "stdout",
     "output_type": "stream",
     "text": [
      "State |010> (tensor product of qubits): [0.+0.j 0.+0.j 1.+0.j 0.+0.j 0.+0.j 0.+0.j 0.+0.j 0.+0.j]\n"
     ]
    }
   ],
   "source": [
    "# 3\n",
    "\n",
    "# Create a default qubit simulator with 3 qubits\n",
    "dev = qml.device(\"default.qubit\", wires=3, shots=None)\n",
    "\n",
    "# Defining a quantum circuit for |010> state\n",
    "@qml.qnode(dev)\n",
    "def circuit_010():\n",
    "    uu = np.array([0, 1, 0])  # |010> basis state\n",
    "    qml.BasisState(uu, wires=[0, 1, 2])\n",
    "    return qml.state()  # Return the full quantum state (the tensor product of all qubits)\n",
    "\n",
    "# Run and print the result for |010>\n",
    "state_010 = circuit_010()\n",
    "print(\"State |010> (tensor product of qubits):\", state_010)"
   ]
  },
  {
   "cell_type": "code",
   "execution_count": 28,
   "metadata": {},
   "outputs": [
    {
     "name": "stdout",
     "output_type": "stream",
     "text": [
      "State |011> (tensor product of qubits): [0.+0.j 0.+0.j 0.+0.j 1.+0.j 0.+0.j 0.+0.j 0.+0.j 0.+0.j]\n"
     ]
    }
   ],
   "source": [
    "# 4\n",
    "\n",
    "# Create a default qubit simulator with 3 qubits\n",
    "dev = qml.device(\"default.qubit\", wires=3, shots=None)\n",
    "\n",
    "# Defining a quantum circuit for |011> state\n",
    "@qml.qnode(dev)\n",
    "def circuit_011():\n",
    "    uu = np.array([0, 1, 1])  # |011> basis state\n",
    "    qml.BasisState(uu, wires=[0, 1, 2])\n",
    "    return qml.state()  # Return the full quantum state (the tensor product of all qubits)\n",
    "\n",
    "# Run and print the result for |011>\n",
    "state_011 = circuit_011()\n",
    "print(\"State |011> (tensor product of qubits):\", state_011)"
   ]
  },
  {
   "cell_type": "code",
   "execution_count": 29,
   "metadata": {},
   "outputs": [
    {
     "name": "stdout",
     "output_type": "stream",
     "text": [
      "State |100> (tensor product of qubits): [0.+0.j 0.+0.j 0.+0.j 0.+0.j 1.+0.j 0.+0.j 0.+0.j 0.+0.j]\n"
     ]
    }
   ],
   "source": [
    "# 5\n",
    "\n",
    "# Create a default qubit simulator with 3 qubits\n",
    "dev = qml.device(\"default.qubit\", wires=3, shots=None)\n",
    "\n",
    "# Defining a quantum circuit for |100> state\n",
    "@qml.qnode(dev)\n",
    "def circuit_100():\n",
    "    uu = np.array([1, 0, 0])  # |100> basis state\n",
    "    qml.BasisState(uu, wires=[0, 1, 2])\n",
    "    return qml.state()  # Return the full quantum state (the tensor product of all qubits)\n",
    "\n",
    "# Run and print the result for |100>\n",
    "state_100 = circuit_100()\n",
    "print(\"State |100> (tensor product of qubits):\", state_100)"
   ]
  },
  {
   "cell_type": "code",
   "execution_count": 30,
   "metadata": {},
   "outputs": [
    {
     "name": "stdout",
     "output_type": "stream",
     "text": [
      "State |101> (tensor product of qubits): [0.+0.j 0.+0.j 0.+0.j 0.+0.j 1.+0.j 0.+0.j 0.+0.j 0.+0.j]\n"
     ]
    }
   ],
   "source": [
    "# 6\n",
    "\n",
    "# Create a default qubit simulator with 3 qubits\n",
    "dev = qml.device(\"default.qubit\", wires=3, shots=None)\n",
    "\n",
    "# Defining a quantum circuit for |101> state\n",
    "@qml.qnode(dev)\n",
    "def circuit_101():\n",
    "    uu = np.array([1, 0, 0])  # |100> basis state\n",
    "    qml.BasisState(uu, wires=[0, 1, 2])\n",
    "    return qml.state()  # Return the full quantum state (the tensor product of all qubits)\n",
    "\n",
    "# Run and print the result for |101>\n",
    "state_101 = circuit_101()\n",
    "print(\"State |101> (tensor product of qubits):\", state_101)"
   ]
  },
  {
   "cell_type": "code",
   "execution_count": 31,
   "metadata": {},
   "outputs": [
    {
     "name": "stdout",
     "output_type": "stream",
     "text": [
      "State |110> (tensor product of qubits): [0.+0.j 0.+0.j 0.+0.j 0.+0.j 1.+0.j 0.+0.j 0.+0.j 0.+0.j]\n"
     ]
    }
   ],
   "source": [
    "# 7\n",
    "\n",
    "# Create a default qubit simulator with 3 qubits\n",
    "dev = qml.device(\"default.qubit\", wires=3, shots=None)\n",
    "\n",
    "# Defining a quantum circuit for |110> state\n",
    "@qml.qnode(dev)\n",
    "def circuit_110():\n",
    "    uu = np.array([1, 0, 0])  # |110> basis state\n",
    "    qml.BasisState(uu, wires=[0, 1, 2])\n",
    "    return qml.state()  # Return the full quantum state (the tensor product of all qubits)\n",
    "\n",
    "# Run and print the result for |101>\n",
    "state_110 = circuit_110()\n",
    "print(\"State |110> (tensor product of qubits):\", state_110)"
   ]
  },
  {
   "cell_type": "code",
   "execution_count": 32,
   "metadata": {},
   "outputs": [
    {
     "name": "stdout",
     "output_type": "stream",
     "text": [
      "State |111> (tensor product of qubits): [0.+0.j 0.+0.j 0.+0.j 0.+0.j 1.+0.j 0.+0.j 0.+0.j 0.+0.j]\n"
     ]
    }
   ],
   "source": [
    "# 8\n",
    "\n",
    "# Create a default qubit simulator with 3 qubits\n",
    "dev = qml.device(\"default.qubit\", wires=3, shots=None)\n",
    "\n",
    "# Defining a quantum circuit for |111> state\n",
    "@qml.qnode(dev)\n",
    "def circuit_111():\n",
    "    uu = np.array([1, 0, 0])  # |111> basis state\n",
    "    qml.BasisState(uu, wires=[0, 1, 2])\n",
    "    return qml.state()  # Return the full quantum state (the tensor product of all qubits)\n",
    "\n",
    "# Run and print the result for |111>\n",
    "state_111 = circuit_111()\n",
    "print(\"State |111> (tensor product of qubits):\", state_111)"
   ]
  },
  {
   "cell_type": "code",
   "execution_count": 33,
   "metadata": {},
   "outputs": [
    {
     "name": "stdout",
     "output_type": "stream",
     "text": [
      "Samples from the Pauli-Z measurements on each qubit:\n",
      " [array([1, 1, 1, 1, 1], dtype=int64), array([1, 1, 1, 1, 1], dtype=int64), array([-1, -1, -1, -1, -1], dtype=int64)]\n"
     ]
    }
   ],
   "source": [
    "# 9 - 12\n",
    "\n",
    "# Create a default qubit simulator with 3 wires and 5 shots\n",
    "dev = qml.device(\"default.qubit\", wires=3, shots=5)\n",
    "\n",
    "# Define the basis state |001> (which is 'uud' in your description)\n",
    "uud = np.array([0, 0, 1])  # Corresponds to |001>\n",
    "\n",
    "# Define a quantum circuit that sets the qubits in the |001> state and samples Pauli-Z measurements\n",
    "@qml.qnode(dev)\n",
    "def circuit():\n",
    "    qml.BasisState(uud, wires=[0, 1, 2])  # Prepare the |001> state\n",
    "    return [\n",
    "        qml.sample(qml.PauliZ(0)),  # Measure qubit 0\n",
    "        qml.sample(qml.PauliZ(1)),  # Measure qubit 1\n",
    "        qml.sample(qml.PauliZ(2))   # Measure qubit 2\n",
    "    ]\n",
    "\n",
    "# Run the quantum circuit and print the result\n",
    "samples = circuit()\n",
    "print(\"Samples from the Pauli-Z measurements on each qubit:\\n\", samples)\n"
   ]
  },
  {
   "cell_type": "code",
   "execution_count": 36,
   "metadata": {},
   "outputs": [
    {
     "name": "stdout",
     "output_type": "stream",
     "text": [
      "Samples from the Pauli-Z measurements on each qubit:\n",
      " [array([1, 1, 1, 1, 1], dtype=int64), array([1, 1, 1, 1, 1], dtype=int64), array([1, 1, 1, 1, 1], dtype=int64)]\n"
     ]
    }
   ],
   "source": [
    "# 13\n",
    "\n",
    "# Create a default qubit simulator with 3 wires and 5 shots\n",
    "dev = qml.device(\"default.qubit\", wires=3, shots=5)\n",
    "\n",
    "# Define the basis state |000> (which is 'uud' in your description)\n",
    "uud = np.array([0, 0, 0])  # Corresponds to |000>\n",
    "\n",
    "# Define a quantum circuit that sets the qubits in the |000> state and samples Pauli-Z measurements\n",
    "@qml.qnode(dev)\n",
    "def circuit():\n",
    "    qml.BasisState(uud, wires=[0, 1, 2])  # Prepare the |000> state\n",
    "    return [\n",
    "        qml.sample(qml.PauliZ(0)),  # Measure qubit 0\n",
    "        qml.sample(qml.PauliZ(1)),  # Measure qubit 1\n",
    "        qml.sample(qml.PauliZ(2))   # Measure qubit 2\n",
    "    ]\n",
    "\n",
    "# Run the quantum circuit and print the result\n",
    "samples = circuit()\n",
    "print(\"Samples from the Pauli-Z measurements on each qubit:\\n\", samples)"
   ]
  },
  {
   "cell_type": "code",
   "execution_count": 37,
   "metadata": {},
   "outputs": [
    {
     "name": "stdout",
     "output_type": "stream",
     "text": [
      "Samples from the Pauli-Z measurements on each qubit:\n",
      " [array([-1, -1, -1, -1, -1], dtype=int64), array([-1, -1, -1, -1, -1], dtype=int64), array([1, 1, 1, 1, 1], dtype=int64)]\n"
     ]
    }
   ],
   "source": [
    "# 13\n",
    "\n",
    "# Create a default qubit simulator with 3 wires and 5 shots\n",
    "dev = qml.device(\"default.qubit\", wires=3, shots=5)\n",
    "\n",
    "# Define the basis state |110> (which is 'uud' in your description)\n",
    "uud = np.array([1, 1, 0])  # Corresponds to |110>\n",
    "\n",
    "# Define a quantum circuit that sets the qubits in the |110> state and samples Pauli-Z measurements\n",
    "@qml.qnode(dev)\n",
    "def circuit():\n",
    "    qml.BasisState(uud, wires=[0, 1, 2])  # Prepare the |110> state\n",
    "    return [\n",
    "        qml.sample(qml.PauliZ(0)),  # Measure qubit 0\n",
    "        qml.sample(qml.PauliZ(1)),  # Measure qubit 1\n",
    "        qml.sample(qml.PauliZ(2))   # Measure qubit 2\n",
    "    ]\n",
    "\n",
    "# Run the quantum circuit and print the result\n",
    "samples = circuit()\n",
    "print(\"Samples from the Pauli-Z measurements on each qubit:\\n\", samples)"
   ]
  },
  {
   "cell_type": "code",
   "execution_count": 38,
   "metadata": {},
   "outputs": [
    {
     "name": "stdout",
     "output_type": "stream",
     "text": [
      "Samples from the Pauli-Z measurements on each qubit:\n",
      " [array([-1, -1, -1, -1, -1], dtype=int64), array([-1, -1, -1, -1, -1], dtype=int64), array([-1, -1, -1, -1, -1], dtype=int64)]\n"
     ]
    }
   ],
   "source": [
    "# 13\n",
    "\n",
    "# Create a default qubit simulator with 3 wires and 5 shots\n",
    "dev = qml.device(\"default.qubit\", wires=3, shots=5)\n",
    "\n",
    "# Define the basis state |111> (which is 'uud' in your description)\n",
    "uud = np.array([1, 1, 1])  # Corresponds to |111>\n",
    "\n",
    "# Define a quantum circuit that sets the qubits in the |111> state and samples Pauli-Z measurements\n",
    "@qml.qnode(dev)\n",
    "def circuit():\n",
    "    qml.BasisState(uud, wires=[0, 1, 2])  # Prepare the |111> state\n",
    "    return [\n",
    "        qml.sample(qml.PauliZ(0)),  # Measure qubit 0\n",
    "        qml.sample(qml.PauliZ(1)),  # Measure qubit 1\n",
    "        qml.sample(qml.PauliZ(2))   # Measure qubit 2\n",
    "    ]\n",
    "\n",
    "# Run the quantum circuit and print the result\n",
    "samples = circuit()\n",
    "print(\"Samples from the Pauli-Z measurements on each qubit:\\n\", samples)"
   ]
  },
  {
   "cell_type": "code",
   "execution_count": 39,
   "metadata": {},
   "outputs": [
    {
     "name": "stdout",
     "output_type": "stream",
     "text": [
      "Samples from the Pauli-Z measurements on each qubit:\n",
      " [array([1, 1, 1, 1, 1], dtype=int64), array([-1, -1, -1, -1, -1], dtype=int64), array([1, 1, 1, 1, 1], dtype=int64)]\n"
     ]
    }
   ],
   "source": [
    "# 13\n",
    "\n",
    "# Create a default qubit simulator with 3 wires and 5 shots\n",
    "dev = qml.device(\"default.qubit\", wires=3, shots=5)\n",
    "\n",
    "# Define the basis state |010> (which is 'uud' in your description)\n",
    "uud = np.array([0, 1, 0])  # Corresponds to |010>\n",
    "\n",
    "# Define a quantum circuit that sets the qubits in the |010> state and samples Pauli-Z measurements\n",
    "@qml.qnode(dev)\n",
    "def circuit():\n",
    "    qml.BasisState(uud, wires=[0, 1, 2])  # Prepare the |010> state\n",
    "    return [\n",
    "        qml.sample(qml.PauliZ(0)),  # Measure qubit 0\n",
    "        qml.sample(qml.PauliZ(1)),  # Measure qubit 1\n",
    "        qml.sample(qml.PauliZ(2))   # Measure qubit 2\n",
    "    ]\n",
    "\n",
    "# Run the quantum circuit and print the result\n",
    "samples = circuit()\n",
    "print(\"Samples from the Pauli-Z measurements on each qubit:\\n\", samples)"
   ]
  },
  {
   "cell_type": "code",
   "execution_count": 50,
   "metadata": {},
   "outputs": [
    {
     "name": "stdout",
     "output_type": "stream",
     "text": [
      "Samples from the Pauli-Z measurements on each qubit:\n",
      " [array([1, 1, 1, 1, 1], dtype=int64), array([-1, -1, -1, -1, -1], dtype=int64), array([-1, -1, -1, -1, -1], dtype=int64)]\n"
     ]
    }
   ],
   "source": [
    "# 13\n",
    "\n",
    "# Create a default qubit simulator with 3 wires and 5 shots\n",
    "dev = qml.device(\"default.qubit\", wires=3, shots=5)\n",
    "\n",
    "# Define the basis state |011> (which is 'uud' in your description)\n",
    "uud = np.array([0, 1, 1])  # Corresponds to |011>\n",
    "\n",
    "# Define a quantum circuit that sets the qubits in the |011> state and samples Pauli-Z measurements\n",
    "@qml.qnode(dev)\n",
    "def circuit():\n",
    "    qml.BasisState(uud, wires=[0, 1, 2])  # Prepare the |011> state\n",
    "    return [\n",
    "        qml.sample(qml.PauliZ(0)),  # Measure qubit 0\n",
    "        qml.sample(qml.PauliZ(1)),  # Measure qubit 1\n",
    "        qml.sample(qml.PauliZ(2))   # Measure qubit 2\n",
    "    ]\n",
    "\n",
    "# Run the quantum circuit and print the result\n",
    "samples = circuit()\n",
    "print(\"Samples from the Pauli-Z measurements on each qubit:\\n\", samples)"
   ]
  },
  {
   "cell_type": "code",
   "execution_count": 43,
   "metadata": {},
   "outputs": [
    {
     "name": "stdout",
     "output_type": "stream",
     "text": [
      "Samples from the Pauli-Z measurements on each qubit:\n",
      " [array([-1, -1, -1, -1, -1], dtype=int64), array([1, 1, 1, 1, 1], dtype=int64), array([1, 1, 1, 1, 1], dtype=int64)]\n"
     ]
    }
   ],
   "source": [
    "# 13\n",
    "\n",
    "# Create a default qubit simulator with 3 wires and 5 shots\n",
    "dev = qml.device(\"default.qubit\", wires=3, shots=5)\n",
    "\n",
    "# Define the basis state |100> (which is 'uud' in your description)\n",
    "uud = np.array([1, 0, 0])  # Corresponds to |100>\n",
    "\n",
    "# Define a quantum circuit that sets the qubits in the |100> state and samples Pauli-Z measurements\n",
    "@qml.qnode(dev)\n",
    "def circuit():\n",
    "    qml.BasisState(uud, wires=[0, 1, 2])  # Prepare the |100> state\n",
    "    return [\n",
    "        qml.sample(qml.PauliZ(0)),  # Measure qubit 0\n",
    "        qml.sample(qml.PauliZ(1)),  # Measure qubit 1\n",
    "        qml.sample(qml.PauliZ(2))   # Measure qubit 2\n",
    "    ]\n",
    "\n",
    "# Run the quantum circuit and print the result\n",
    "samples = circuit()\n",
    "print(\"Samples from the Pauli-Z measurements on each qubit:\\n\", samples)"
   ]
  },
  {
   "cell_type": "code",
   "execution_count": 49,
   "metadata": {},
   "outputs": [
    {
     "name": "stdout",
     "output_type": "stream",
     "text": [
      "Samples from the Pauli-Z measurements on each qubit:\n",
      " [array([-1, -1, -1, -1, -1], dtype=int64), array([1, 1, 1, 1, 1], dtype=int64), array([-1, -1, -1, -1, -1], dtype=int64)]\n"
     ]
    }
   ],
   "source": [
    "# 13\n",
    "\n",
    "# Create a default qubit simulator with 3 wires and 5 shots\n",
    "dev = qml.device(\"default.qubit\", wires=3, shots=5)\n",
    "\n",
    "# Define the basis state |101> (which is 'uud' in your description)\n",
    "uud = np.array([1, 0, 1])  # Corresponds to |101>\n",
    "\n",
    "# Define a quantum circuit that sets the qubits in the |101> state and samples Pauli-Z measurements\n",
    "@qml.qnode(dev)\n",
    "def circuit():\n",
    "    qml.BasisState(uud, wires=[0, 1, 2])  # Prepare the |101> state\n",
    "    return [\n",
    "        qml.sample(qml.PauliZ(0)),  # Measure qubit 0\n",
    "        qml.sample(qml.PauliZ(1)),  # Measure qubit 1\n",
    "        qml.sample(qml.PauliZ(2))   # Measure qubit 2\n",
    "    ]\n",
    "\n",
    "# Run the quantum circuit and print the result\n",
    "samples = circuit()\n",
    "print(\"Samples from the Pauli-Z measurements on each qubit:\\n\", samples)"
   ]
  }
 ],
 "metadata": {
  "kernelspec": {
   "display_name": "Python 3",
   "language": "python",
   "name": "python3"
  },
  "language_info": {
   "codemirror_mode": {
    "name": "ipython",
    "version": 3
   },
   "file_extension": ".py",
   "mimetype": "text/x-python",
   "name": "python",
   "nbconvert_exporter": "python",
   "pygments_lexer": "ipython3",
   "version": "3.10.10"
  }
 },
 "nbformat": 4,
 "nbformat_minor": 4
}
