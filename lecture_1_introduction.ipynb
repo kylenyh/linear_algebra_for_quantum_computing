{
 "cells": [
  {
   "cell_type": "markdown",
   "metadata": {},
   "source": [
    "# Jupyter Notebooks"
   ]
  },
  {
   "cell_type": "markdown",
   "metadata": {},
   "source": [
    "Jupyer notebooks and Jupyter Lab as free notebook environments for running Python code and writing markdown. They are available in the latest Anaconda distribution, which is also free. Jupyter is a standard tool used by the data science and machine learning community, and provides a very user friendly interactive interface. Jupyter cells such as this one can render markdown, which is similar to HTML, but more basic. To run a cell, simply click on the cell and press `shift+enter`. As an example, click on the following cell to run it and see its output. "
   ]
  },
  {
   "cell_type": "code",
   "execution_count": 1,
   "metadata": {},
   "outputs": [
    {
     "data": {
      "text/plain": [
       "8"
      ]
     },
     "execution_count": 1,
     "metadata": {},
     "output_type": "execute_result"
    }
   ],
   "source": [
    "5+3"
   ]
  },
  {
   "cell_type": "markdown",
   "metadata": {},
   "source": [
    "The Jupyter notebook environment recognizes the cell's input as Python code, and returns an output of $8$. Other arithmetic operations can also be done. Click on the next cell and press `shift+enter` to run it. "
   ]
  },
  {
   "cell_type": "code",
   "execution_count": 2,
   "metadata": {},
   "outputs": [
    {
     "data": {
      "text/plain": [
       "15"
      ]
     },
     "execution_count": 2,
     "metadata": {},
     "output_type": "execute_result"
    }
   ],
   "source": [
    "5*3"
   ]
  },
  {
   "cell_type": "markdown",
   "metadata": {},
   "source": [
    "We can also print out \"strings\" of characters, by running something like the next cell."
   ]
  },
  {
   "cell_type": "code",
   "execution_count": 3,
   "metadata": {},
   "outputs": [
    {
     "name": "stdout",
     "output_type": "stream",
     "text": [
      "this is a string of characters\n"
     ]
    }
   ],
   "source": [
    "print('this is a string of characters')"
   ]
  },
  {
   "cell_type": "markdown",
   "metadata": {},
   "source": [
    "## Installing QISKit\n",
    "\n",
    "Jupyer notebook also allows you to install various things using `pip`. For example, we can install IBM's QISKit using `pip` by running the next cell. The output is unimportant right now. The important thing to know is this allows us to bypass using terminal to install packages using `pip`. "
   ]
  },
  {
   "cell_type": "code",
   "execution_count": null,
   "metadata": {},
   "outputs": [
    {
     "name": "stdout",
     "output_type": "stream",
     "text": [
      "Requirement already satisfied: qiskit in /opt/anaconda3/lib/python3.7/site-packages (0.18.3)\n",
      "Requirement already satisfied: qiskit-aqua==0.6.6 in /opt/anaconda3/lib/python3.7/site-packages (from qiskit) (0.6.6)\n",
      "Requirement already satisfied: qiskit-terra==0.13.0 in /opt/anaconda3/lib/python3.7/site-packages (from qiskit) (0.13.0)\n",
      "Requirement already satisfied: qiskit-ibmq-provider==0.6.1 in /opt/anaconda3/lib/python3.7/site-packages (from qiskit) (0.6.1)\n",
      "Requirement already satisfied: qiskit-ignis==0.3.0 in /opt/anaconda3/lib/python3.7/site-packages (from qiskit) (0.3.0)\n",
      "Requirement already satisfied: qiskit-aer==0.5.1 in /opt/anaconda3/lib/python3.7/site-packages (from qiskit) (0.5.1)\n",
      "Requirement already satisfied: sympy>=1.3 in /opt/anaconda3/lib/python3.7/site-packages (from qiskit-aqua==0.6.6->qiskit) (1.5.1)\n",
      "Requirement already satisfied: scipy>=1.0 in /opt/anaconda3/lib/python3.7/site-packages (from qiskit-aqua==0.6.6->qiskit) (1.4.1)\n",
      "Requirement already satisfied: psutil>=5 in /opt/anaconda3/lib/python3.7/site-packages (from qiskit-aqua==0.6.6->qiskit) (5.6.7)\n",
      "Requirement already satisfied: h5py in /opt/anaconda3/lib/python3.7/site-packages (from qiskit-aqua==0.6.6->qiskit) (2.10.0)\n",
      "Requirement already satisfied: jsonschema>=2.6 in /opt/anaconda3/lib/python3.7/site-packages (from qiskit-aqua==0.6.6->qiskit) (3.2.0)\n",
      "Requirement already satisfied: dlx in /opt/anaconda3/lib/python3.7/site-packages (from qiskit-aqua==0.6.6->qiskit) (1.0.4)\n",
      "Requirement already satisfied: setuptools>=40.1.0 in /opt/anaconda3/lib/python3.7/site-packages (from qiskit-aqua==0.6.6->qiskit) (46.0.0.post20200309)\n",
      "Requirement already satisfied: scikit-learn>=0.20.0 in /opt/anaconda3/lib/python3.7/site-packages (from qiskit-aqua==0.6.6->qiskit) (0.22.1)\n",
      "Requirement already satisfied: quandl in /opt/anaconda3/lib/python3.7/site-packages (from qiskit-aqua==0.6.6->qiskit) (3.5.0)\n",
      "Requirement already satisfied: networkx>=2.2 in /opt/anaconda3/lib/python3.7/site-packages (from qiskit-aqua==0.6.6->qiskit) (2.4)\n",
      "Requirement already satisfied: pyscf; sys_platform == \"linux\" or (python_version < \"3.8\" and sys_platform != \"win32\") in /opt/anaconda3/lib/python3.7/site-packages (from qiskit-aqua==0.6.6->qiskit) (1.7.1.post1)\n",
      "Requirement already satisfied: fastdtw in /opt/anaconda3/lib/python3.7/site-packages (from qiskit-aqua==0.6.6->qiskit) (0.3.4)\n",
      "Requirement already satisfied: docplex in /opt/anaconda3/lib/python3.7/site-packages (from qiskit-aqua==0.6.6->qiskit) (2.13.184)\n",
      "Requirement already satisfied: numpy>=1.13 in /opt/anaconda3/lib/python3.7/site-packages (from qiskit-aqua==0.6.6->qiskit) (1.18.1)\n",
      "Requirement already satisfied: marshmallow-polyfield<6,>=5.7 in /opt/anaconda3/lib/python3.7/site-packages (from qiskit-terra==0.13.0->qiskit) (5.9)\n",
      "Requirement already satisfied: ply>=3.10 in /opt/anaconda3/lib/python3.7/site-packages (from qiskit-terra==0.13.0->qiskit) (3.11)\n",
      "Requirement already satisfied: marshmallow<4,>=3 in /opt/anaconda3/lib/python3.7/site-packages (from qiskit-terra==0.13.0->qiskit) (3.5.1)\n",
      "Requirement already satisfied: fastjsonschema>=2.10 in /opt/anaconda3/lib/python3.7/site-packages (from qiskit-terra==0.13.0->qiskit) (2.14.4)\n",
      "Requirement already satisfied: retworkx>=0.3.2 in /opt/anaconda3/lib/python3.7/site-packages (from qiskit-terra==0.13.0->qiskit) (0.3.3)\n",
      "Requirement already satisfied: dill>=0.3 in /opt/anaconda3/lib/python3.7/site-packages (from qiskit-terra==0.13.0->qiskit) (0.3.1.1)\n",
      "Requirement already satisfied: python-constraint>=1.4 in /opt/anaconda3/lib/python3.7/site-packages (from qiskit-terra==0.13.0->qiskit) (1.4.0)\n",
      "Requirement already satisfied: requests>=2.19 in /opt/anaconda3/lib/python3.7/site-packages (from qiskit-ibmq-provider==0.6.1->qiskit) (2.22.0)\n",
      "Requirement already satisfied: nest-asyncio!=1.1.0,>=1.0.0 in /opt/anaconda3/lib/python3.7/site-packages (from qiskit-ibmq-provider==0.6.1->qiskit) (1.3.2)\n",
      "Requirement already satisfied: arrow>=0.15.5 in /opt/anaconda3/lib/python3.7/site-packages (from qiskit-ibmq-provider==0.6.1->qiskit) (0.15.5)\n",
      "Requirement already satisfied: requests-ntlm>=1.1.0 in /opt/anaconda3/lib/python3.7/site-packages (from qiskit-ibmq-provider==0.6.1->qiskit) (1.1.0)\n",
      "Requirement already satisfied: websockets<8,>=7 in /opt/anaconda3/lib/python3.7/site-packages (from qiskit-ibmq-provider==0.6.1->qiskit) (7.0)\n",
      "Requirement already satisfied: pybind11>=2.4 in /opt/anaconda3/lib/python3.7/site-packages (from qiskit-aer==0.5.1->qiskit) (2.5.0)\n",
      "Requirement already satisfied: cython>=0.27.1 in /opt/anaconda3/lib/python3.7/site-packages (from qiskit-aer==0.5.1->qiskit) (0.29.15)\n",
      "Requirement already satisfied: mpmath>=0.19 in /opt/anaconda3/lib/python3.7/site-packages (from sympy>=1.3->qiskit-aqua==0.6.6->qiskit) (1.1.0)\n",
      "Requirement already satisfied: six in /opt/anaconda3/lib/python3.7/site-packages (from h5py->qiskit-aqua==0.6.6->qiskit) (1.14.0)\n",
      "Requirement already satisfied: pyrsistent>=0.14.0 in /opt/anaconda3/lib/python3.7/site-packages (from jsonschema>=2.6->qiskit-aqua==0.6.6->qiskit) (0.15.7)\n",
      "Requirement already satisfied: importlib-metadata; python_version < \"3.8\" in /opt/anaconda3/lib/python3.7/site-packages (from jsonschema>=2.6->qiskit-aqua==0.6.6->qiskit) (1.5.0)\n",
      "Requirement already satisfied: attrs>=17.4.0 in /opt/anaconda3/lib/python3.7/site-packages (from jsonschema>=2.6->qiskit-aqua==0.6.6->qiskit) (19.3.0)\n",
      "Requirement already satisfied: joblib>=0.11 in /opt/anaconda3/lib/python3.7/site-packages (from scikit-learn>=0.20.0->qiskit-aqua==0.6.6->qiskit) (0.14.1)\n",
      "Requirement already satisfied: python-dateutil in /opt/anaconda3/lib/python3.7/site-packages (from quandl->qiskit-aqua==0.6.6->qiskit) (2.8.1)\n",
      "Requirement already satisfied: more-itertools in /opt/anaconda3/lib/python3.7/site-packages (from quandl->qiskit-aqua==0.6.6->qiskit) (8.2.0)\n",
      "Requirement already satisfied: pandas>=0.14 in /opt/anaconda3/lib/python3.7/site-packages (from quandl->qiskit-aqua==0.6.6->qiskit) (1.0.1)\n",
      "Requirement already satisfied: inflection>=0.3.1 in /opt/anaconda3/lib/python3.7/site-packages (from quandl->qiskit-aqua==0.6.6->qiskit) (0.4.0)\n",
      "Requirement already satisfied: decorator>=4.3.0 in /opt/anaconda3/lib/python3.7/site-packages (from networkx>=2.2->qiskit-aqua==0.6.6->qiskit) (4.4.1)\n",
      "Requirement already satisfied: urllib3!=1.25.0,!=1.25.1,<1.26,>=1.21.1 in /opt/anaconda3/lib/python3.7/site-packages (from requests>=2.19->qiskit-ibmq-provider==0.6.1->qiskit) (1.25.8)\n",
      "Requirement already satisfied: idna<2.9,>=2.5 in /opt/anaconda3/lib/python3.7/site-packages (from requests>=2.19->qiskit-ibmq-provider==0.6.1->qiskit) (2.8)\n",
      "Requirement already satisfied: certifi>=2017.4.17 in /opt/anaconda3/lib/python3.7/site-packages (from requests>=2.19->qiskit-ibmq-provider==0.6.1->qiskit) (2019.11.28)\n",
      "Requirement already satisfied: chardet<3.1.0,>=3.0.2 in /opt/anaconda3/lib/python3.7/site-packages (from requests>=2.19->qiskit-ibmq-provider==0.6.1->qiskit) (3.0.4)\n",
      "Requirement already satisfied: cryptography>=1.3 in /opt/anaconda3/lib/python3.7/site-packages (from requests-ntlm>=1.1.0->qiskit-ibmq-provider==0.6.1->qiskit) (2.8)\n",
      "Requirement already satisfied: ntlm-auth>=1.0.2 in /opt/anaconda3/lib/python3.7/site-packages (from requests-ntlm>=1.1.0->qiskit-ibmq-provider==0.6.1->qiskit) (1.4.0)\n",
      "Requirement already satisfied: zipp>=0.5 in /opt/anaconda3/lib/python3.7/site-packages (from importlib-metadata; python_version < \"3.8\"->jsonschema>=2.6->qiskit-aqua==0.6.6->qiskit) (2.2.0)\n",
      "Requirement already satisfied: pytz>=2017.2 in /opt/anaconda3/lib/python3.7/site-packages (from pandas>=0.14->quandl->qiskit-aqua==0.6.6->qiskit) (2019.3)\n",
      "Requirement already satisfied: cffi!=1.11.3,>=1.8 in /opt/anaconda3/lib/python3.7/site-packages (from cryptography>=1.3->requests-ntlm>=1.1.0->qiskit-ibmq-provider==0.6.1->qiskit) (1.14.0)\n",
      "Requirement already satisfied: pycparser in /opt/anaconda3/lib/python3.7/site-packages (from cffi!=1.11.3,>=1.8->cryptography>=1.3->requests-ntlm>=1.1.0->qiskit-ibmq-provider==0.6.1->qiskit) (2.19)\n"
     ]
    }
   ],
   "source": [
    "pip install qiskit"
   ]
  },
  {
   "cell_type": "markdown",
   "metadata": {},
   "source": [
    "## Installing PennyLane\n",
    "\n",
    "Now, let's install PennyLane"
   ]
  },
  {
   "cell_type": "code",
   "execution_count": null,
   "metadata": {},
   "outputs": [],
   "source": [
    "pip install pennylane"
   ]
  },
  {
   "cell_type": "markdown",
   "metadata": {},
   "source": [
    "We can also import packages to use by using the `import` command. For example, run the next cell to import NumPy. "
   ]
  },
  {
   "cell_type": "code",
   "execution_count": null,
   "metadata": {},
   "outputs": [],
   "source": [
    "import numpy as np"
   ]
  },
  {
   "cell_type": "markdown",
   "metadata": {},
   "source": [
    "This imports NumPy as the \"alias\" `np`. When we use functionality from NumPy, we will use the prefix `np`. As an example, if we want to build a two-by-two matrix using NumPy, we would run the following code."
   ]
  },
  {
   "cell_type": "code",
   "execution_count": null,
   "metadata": {},
   "outputs": [],
   "source": [
    "np.matrix([[1, 2],\n",
    "           [3, 4]])"
   ]
  },
  {
   "cell_type": "markdown",
   "metadata": {},
   "source": [
    "We can set the symbol `A` equal to this matrix to store this data type as the more compact `A`, rather than writing out the all of the code in the definition of the matrix each time. "
   ]
  },
  {
   "cell_type": "code",
   "execution_count": null,
   "metadata": {},
   "outputs": [],
   "source": [
    "A = np.matrix([[1, 2],\n",
    "               [3, 4]])"
   ]
  },
  {
   "cell_type": "markdown",
   "metadata": {},
   "source": [
    "Notice how nothing is printed. If we want to print `A`, we can use the following command. "
   ]
  },
  {
   "cell_type": "code",
   "execution_count": null,
   "metadata": {},
   "outputs": [],
   "source": [
    "print(A)"
   ]
  },
  {
   "cell_type": "markdown",
   "metadata": {},
   "source": [
    "Many other things can be done with Jupyter notebooks. There are various plugins and widgets. We will be using Jupyer notebooks extensively throughout, so you will get much more practice running them and familiarizing yourself with Python code. Now, let's talk a little bit about what *Quantum Computing* is. "
   ]
  },
  {
   "cell_type": "markdown",
   "metadata": {},
   "source": [
    "# Quantum Computing\n",
    "\n",
    "In the lectures and interactive notebooks, we will be using a lot of *linear algebra*, i.e. matrix and vector operations. "
   ]
  },
  {
   "cell_type": "markdown",
   "metadata": {},
   "source": [
    "## Why Linear Algebra?\n",
    "Linear algebra, the language of matrices and vectors, is the fundamental language of quantum computing and quantum information. Approaching quantum computing through linear algebra is the approach taken in the most cited textbook on the subject: [\"Quantum Computation and Quantum Information\"](https://www.amazon.com/gp/product/1107002176/ref=as_li_tl?ie=UTF8&camp=1789&creative=9325&creativeASIN=1107002176&linkCode=as2&tag=singularity07-20&linkId=10080ebd13739525bdfd76be97682775) by Nielsen & Chuang. This approach is also mathematically the most approachable for the complete beginner. If you have very little background in mathematics, physics, and computer programming, this approach is for you!\n",
    "\n",
    "## What Quantum Computing is, and is not\n",
    "Quantum computing is a way of processing information in a fundamentally different way from the way your laptop or smartphone processes data. The \"*classical*\" way of processing information is in terms of bits, binary values of zeros and ones. Quantum computing takes advantage of three different properties of quantum physics to process information. \n",
    "\n",
    "### Superposition\n",
    "**Superposition** is the fancy word used to describe how **qubits**, the quantum version of bits, can exist in a combination of both zero and one. Qubits can also be measured in different *bases*, allowing for things like *adaptive measurement* of states, and *measurement based quantum computation*. Since qubits can be in a state that is a mixture of both zero and one, this gives them computational properties that classical bits don't have. \n",
    "\n",
    "### Entanglement\n",
    "**Entanglement** is the word used to describe how qubits can have states that are correlated with other qubit states. Qubits interact with each other and become *entangled*, meaning their states are now statistically correlated and information about one can sometimes reveal information about the other. Multiple qubits can be entangled at once and complicated behavior can emerge. One area of research that scientists have shown much interest in is **multipartite entanglement**. This is a complex form of entanglement that exhibits highly non-classical behavior. This can be used in quantum teleportation and quantum cryptography protocols. It is also the source of a famous experiment named after Einstein, Podolsky, and Rosen, as well as John Bell's famous experiments showing that local hidden variables theories are highly unlikely to be true. \n",
    "\n",
    "### Interference\n",
    "**Interference**, like the interference we see in waves of light, sound, and water, is exhibited by quantum computers. Quantum computers can have *constructive* (additive) interference, or they can have *destructive* interference, where waves are out of sync and cancel. This interesteing and strange behavior is often the subject of debate when discussing *wave-particle duality* and the famous *measurement problem of quantum physics*. Interference can be used to enhance \"good information\" and to cancel \"bad information\" in computations. This allows us to set up computations in clever ways and use interference as an information processing technique to solve problems. \n",
    "\n",
    "### Quantum Computers as ASICs\n",
    "ASICs or **Application Specific Integrated Circuits** are specialized computer chips that are built for very specific kinds of computational tasks. A good example of this the GPU or *Graphics Processing Unit*, or Google's TPU (Tensor Processing Unit) which have enhanced machine learning drastically in recent years. Other examples might be the *neuromorphic computing chips* that Intel has designed. These were all designed to solve specific kinds of problems, such as enhancing machine learning tasks. Quantum computers can be thought of in a very similar way. There is a classical computer interface that delegates certain computational tasks to the quantum hardware. The quantum hardware then processes that computational task and then the classical computer receives the output data. There are many kinds of problems that quantum computers can solve. In fact, any computational task a classical computer can solve, a quantum computer can also solve. However, classical computers are still more efficient at certain things, so they will not be going anywhere. There are many algorithms and problems that can be solved exponentially faster on a quantum computer compared to all known classical methods. \n",
    "\n",
    "Finding out where this computational advantage comes from is one of the central tasks of quantum computing research. There is a [Quantum Algorithm Zoo](https://quantumalgorithmzoo.org/), which lists many of the known algorithms that give speedup over classical methods. Much of the focus of The Singularity is to research these various applications and algorithms and implement them in various quantum computing languages. Some applications include using Shor's algorithm to break RSA public key cryptography and other algorithms that break elliptic curve cryptography. If you are interested in discovering the inner workings of quantum algorithms and trying to understand where this quantum supremacy or advantage comes from, check out these lectures. \n",
    "\n",
    "### Quantikz\n",
    "If you are a [Donald Knuth](https://www-cs-faculty.stanford.edu/~knuth/) fan and love [LaTeX](https://www.latex-project.org/) too, check out the TikZ library [quantikz](https://ctan.org/pkg/quantikz?lang=en). It is a LaTeX library for constructing quantum circuit diagrams. It was used for rendering many of the quantum circuit diagrams in the lectures. "
   ]
  }
 ],
 "metadata": {
  "kernelspec": {
   "display_name": "Python 3",
   "language": "python",
   "name": "python3"
  },
  "language_info": {
   "codemirror_mode": {
    "name": "ipython",
    "version": 3
   },
   "file_extension": ".py",
   "mimetype": "text/x-python",
   "name": "python",
   "nbconvert_exporter": "python",
   "pygments_lexer": "ipython3",
   "version": "3.7.6"
  }
 },
 "nbformat": 4,
 "nbformat_minor": 4
}
